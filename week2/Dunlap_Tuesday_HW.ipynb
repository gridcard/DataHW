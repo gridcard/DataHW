{
  "cells": [
    {
      "cell_type": "markdown",
      "metadata": {
        "id": "tNxYihD0pnYc"
      },
      "source": [
        "# Coding Temple's Data Analytics Course\n",
        "---\n",
        "## Python Basics Assignment 2\n",
        "---"
      ]
    },
    {
      "cell_type": "markdown",
      "metadata": {
        "id": "9dxJ1J9BpnYf"
      },
      "source": [
        "### **Task 1: List Comprehension**\n",
        "Given a list as a parameter, write a function named `less_than_10`, that uses list comprehension to returns the input list with all numbers less than 10."
      ]
    },
    {
      "cell_type": "code",
      "execution_count": null,
      "metadata": {
        "colab": {
          "base_uri": "https://localhost:8080/"
        },
        "id": "1a4PGCbHpnYg",
        "outputId": "8bdba30e-25a5-44be-e270-b417ba25d915"
      },
      "outputs": [
        {
          "name": "stdout",
          "output_type": "stream",
          "text": [
            "[2, 5, 8, 9, 3]\n"
          ]
        }
      ],
      "source": [
        "# YOUR CODE HERE\n",
        "def less_than_10(lst):\n",
        "    # create a new list \n",
        "    # that filters lst and only keeps those that are less than 10\n",
        "  \n",
        "    filter_lst = [num for num in lst if num < 10]\n",
        "\n",
        "    # return the result\n",
        "    return filter_lst\n",
        "\n",
        "    #test function\n",
        "ex_lst = [2, 11, 5, 8, 14, 9, 20, 3]\n",
        "filter_ex_lst = less_than_10(ex_lst)\n",
        "    #print result\n",
        "print(filter_ex_lst)"
      ]
    },
    {
      "cell_type": "markdown",
      "metadata": {
        "id": "5GbZuiz8pnYh"
      },
      "source": [
        "### **Task 1 Testing**\n",
        "This cell is to test your task 1"
      ]
    },
    {
      "cell_type": "code",
      "execution_count": null,
      "metadata": {
        "id": "8NSddo3NpnYh"
      },
      "outputs": [],
      "source": [
        "# DO NOT EDIT THIS CELL\n",
        "a = [1,2,5,9,55,781,25,478,15,7,99]\n",
        "a_test = [1,2,5,9,7]\n",
        "assert less_than_10(a) == a_test, 'Double check that your function is working properly!'"
      ]
    },
    {
      "cell_type": "markdown",
      "metadata": {
        "id": "n4YzvC9KpnYi"
      },
      "source": [
        "### **Task 2: Merge**\n",
        "Write a function named `merge_lists` that takes two seperate lists as arguments and returns the two lists merged together AND sorted."
      ]
    },
    {
      "cell_type": "code",
      "execution_count": null,
      "metadata": {
        "id": "dlSx4NWUpnYi"
      },
      "outputs": [],
      "source": [
        "# YOUR CODE HERE\n",
        "# make some lists\n",
        "list1 = [\"a\", \"b\" , \"c\"]\n",
        "list2 = [1, 2, 3]\n",
        "\n",
        "def merge_lists(list1, list2): \n",
        " sorted_list = sorted(merge_lists)\n",
        " return sorted_list\n",
        " print(sorted_list)\n",
        "\n",
        "    \n"
      ]
    },
    {
      "cell_type": "markdown",
      "metadata": {
        "id": "arlTxmuQpnYj"
      },
      "source": [
        "### **Task 2 Testing**\n",
        "This cell is to test your task 2"
      ]
    },
    {
      "cell_type": "code",
      "execution_count": null,
      "metadata": {
        "colab": {
          "base_uri": "https://localhost:8080/",
          "height": 339
        },
        "id": "8sKNClyLpnYj",
        "outputId": "15b7d238-f99d-4cfa-fe40-92bee250ac49"
      },
      "outputs": [
        {
          "ename": "TypeError",
          "evalue": "ignored",
          "output_type": "error",
          "traceback": [
            "\u001b[0;31m---------------------------------------------------------------------------\u001b[0m",
            "\u001b[0;31mTypeError\u001b[0m                                 Traceback (most recent call last)",
            "\u001b[0;32m<ipython-input-17-1127cd3ebfd9>\u001b[0m in \u001b[0;36m<module>\u001b[0;34m\u001b[0m\n\u001b[1;32m      2\u001b[0m \u001b[0ml_2\u001b[0m \u001b[0;34m=\u001b[0m \u001b[0;34m[\u001b[0m\u001b[0;36m2\u001b[0m\u001b[0;34m,\u001b[0m\u001b[0;36m6\u001b[0m\u001b[0;34m,\u001b[0m\u001b[0;36m3\u001b[0m\u001b[0;34m]\u001b[0m\u001b[0;34m\u001b[0m\u001b[0;34m\u001b[0m\u001b[0m\n\u001b[1;32m      3\u001b[0m \u001b[0manswer\u001b[0m \u001b[0;34m=\u001b[0m \u001b[0;34m[\u001b[0m\u001b[0;36m1\u001b[0m\u001b[0;34m,\u001b[0m\u001b[0;36m2\u001b[0m\u001b[0;34m,\u001b[0m\u001b[0;36m3\u001b[0m\u001b[0;34m,\u001b[0m\u001b[0;36m4\u001b[0m\u001b[0;34m,\u001b[0m\u001b[0;36m5\u001b[0m\u001b[0;34m,\u001b[0m\u001b[0;36m6\u001b[0m\u001b[0;34m]\u001b[0m\u001b[0;34m\u001b[0m\u001b[0;34m\u001b[0m\u001b[0m\n\u001b[0;32m----> 4\u001b[0;31m \u001b[0;32massert\u001b[0m \u001b[0mmerge_lists\u001b[0m\u001b[0;34m(\u001b[0m\u001b[0ml_1\u001b[0m\u001b[0;34m,\u001b[0m \u001b[0ml_2\u001b[0m\u001b[0;34m)\u001b[0m \u001b[0;34m==\u001b[0m \u001b[0manswer\u001b[0m\u001b[0;34m,\u001b[0m \u001b[0;34m'Double Check your function is performing properly!'\u001b[0m\u001b[0;34m\u001b[0m\u001b[0;34m\u001b[0m\u001b[0m\n\u001b[0m",
            "\u001b[0;32m<ipython-input-16-06abbc077017>\u001b[0m in \u001b[0;36mmerge_lists\u001b[0;34m(list1, list2)\u001b[0m\n\u001b[1;32m      5\u001b[0m \u001b[0;34m\u001b[0m\u001b[0m\n\u001b[1;32m      6\u001b[0m \u001b[0;32mdef\u001b[0m \u001b[0mmerge_lists\u001b[0m\u001b[0;34m(\u001b[0m\u001b[0mlist1\u001b[0m\u001b[0;34m,\u001b[0m \u001b[0mlist2\u001b[0m\u001b[0;34m)\u001b[0m\u001b[0;34m:\u001b[0m\u001b[0;34m\u001b[0m\u001b[0;34m\u001b[0m\u001b[0m\n\u001b[0;32m----> 7\u001b[0;31m  \u001b[0msorted_list\u001b[0m \u001b[0;34m=\u001b[0m \u001b[0msorted\u001b[0m\u001b[0;34m(\u001b[0m\u001b[0mmerge_lists\u001b[0m\u001b[0;34m)\u001b[0m\u001b[0;34m\u001b[0m\u001b[0;34m\u001b[0m\u001b[0m\n\u001b[0m\u001b[1;32m      8\u001b[0m  \u001b[0;32mreturn\u001b[0m \u001b[0msorted_list\u001b[0m\u001b[0;34m\u001b[0m\u001b[0;34m\u001b[0m\u001b[0m\n\u001b[1;32m      9\u001b[0m  \u001b[0mprint\u001b[0m\u001b[0;34m(\u001b[0m\u001b[0msorted_list\u001b[0m\u001b[0;34m)\u001b[0m\u001b[0;34m\u001b[0m\u001b[0;34m\u001b[0m\u001b[0m\n",
            "\u001b[0;31mTypeError\u001b[0m: 'function' object is not iterable"
          ]
        }
      ],
      "source": [
        "l_1 = [1,5,4]\n",
        "l_2 = [2,6,3]\n",
        "answer = [1,2,3,4,5,6]\n",
        "assert merge_lists(l_1, l_2) == answer, 'Double Check your function is performing properly!'"
      ]
    },
    {
      "cell_type": "markdown",
      "metadata": {
        "id": "Y1mwiy2RpnYj"
      },
      "source": [
        "### **Task 3.1: List Creation**\n",
        "Create a three seperate lists. Save these lists as:\n",
        "* `first_names`: List of 10 first names\n",
        "* `middle_names`: List of 10 middle names\n",
        "* `last_names`: List of 10 last names"
      ]
    },
    {
      "cell_type": "code",
      "execution_count": null,
      "metadata": {
        "id": "bUbUA4ilpnYk"
      },
      "outputs": [],
      "source": [
        "# YOUR CODE HERE\n",
        "first_names = ['Ana', 'Billy', 'Charles', 'David', 'Erica', 'Francois', 'Gab', 'Hannah', 'Issac', 'Jack']\n",
        "middle_names = ['Rae', 'Ricky', 'Ron', 'Shelly', 'Lis', 'James', 'Georgina', 'Hannah', 'Issy', 'Hope']\n",
        "last_names = ['Kiey', 'Bandana', 'Dunlop', 'McDonald', 'King', 'Apple', 'Green', 'Brown', 'White', 'Black']\n"
      ]
    },
    {
      "cell_type": "markdown",
      "metadata": {
        "id": "jLcrTi2XXSS4"
      },
      "source": []
    },
    {
      "cell_type": "markdown",
      "metadata": {
        "id": "Ew1RXSMBpnYk"
      },
      "source": [
        "### **Task 3.2: Range Function**\n",
        "Using the three lists you created in the last task, build a function named `name_generator` which takes in each of these lists as an input and performs the following:\n",
        "\n",
        "* Iterates through each list using a range\n",
        "* Creates a `full_name` variable, which has a first, middle, and last name\n",
        "* Saves the `full_name` to the list `full_names`\n",
        "* Returns the `full_names` list\n",
        "\n",
        "**HINT** Your range should not be a hard-coded number"
      ]
    },
    {
      "cell_type": "code",
      "execution_count": null,
      "metadata": {
        "id": "hE_fOilkpnYk"
      },
      "outputs": [],
      "source": [
        "# YOUR CODE HERE\n",
        "#define function\n",
        "def name_generator(first_names, middle_names, last_names):\n",
        "    full_names = []\n",
        "    #take the range of names\n",
        "    for i in range(len(first_names)):\n",
        "      #create an f string that goes through i with {} as a place to hold values\n",
        "        full_name = f\"{first_names[i]} {middle_names[i]} {last_names[i]}\"\n",
        "        #add to full_names list\n",
        "        full_names.append(full_name)\n",
        "    return full_names\n",
        "\n",
        "    full_names = name_generator(first_names, middle_names, last_names)\n",
        "    print(full_names)"
      ]
    },
    {
      "cell_type": "markdown",
      "metadata": {
        "id": "O3fJ68fnpnYl"
      },
      "source": [
        "### **Task 3 Testing**\n",
        "This cell is to test your task 3"
      ]
    },
    {
      "cell_type": "code",
      "execution_count": null,
      "metadata": {
        "id": "h_B60RRxpnYl"
      },
      "outputs": [],
      "source": [
        "# DO NOT EDIT THIS CELL\n",
        "first = ['Alex', 'Brandon', 'Nick']\n",
        "middle = ['The Rock', 'The Paper', 'The Scissors']\n",
        "last = ['Lucchesi', 'Apol', 'Fuentes']\n",
        "answer = ['Alex The Rock Lucchesi','Brandon The Paper Apol','Nick The Scissors Fuentes']\n",
        "assert name_generator(first,middle,last) == answer, 'Double check that your function is performing the way it is supposed to!'"
      ]
    },
    {
      "cell_type": "markdown",
      "metadata": {
        "id": "G99mDLkOpnYl"
      },
      "source": [
        "### **Task 4: User Functions**\n",
        "For this task, you will create a function named `user_input` which:\n",
        "* Takes a string as an input\n",
        "* Asks a user to input their favorite activity or type 'n'\n",
        "* Repeats until the user types 'n'\n",
        "* Stores all user inputs to a list\n",
        "* Returns that list in a print statement when user types 'n'"
      ]
    },
    {
      "cell_type": "code",
      "execution_count": null,
      "metadata": {
        "id": "wucUtysUpnYm"
      },
      "outputs": [],
      "source": [
        "# YOUR CODE HERE\n",
        "\n",
        "def user_input(ask):\n",
        "\n",
        "  user_reply = []\n",
        "  while True:\n",
        "    activity = input(ask)\n",
        "    if activity.lower () == 'n':\n",
        "       print('Here are your favorite activities')\n",
        "       print(user_reply)\n",
        "    else:\n",
        "      user_inputs.append(activity)"
      ]
    }
  ],
  "metadata": {
    "colab": {
      "provenance": []
    },
    "kernelspec": {
      "display_name": "Python 3",
      "language": "python",
      "name": "python3"
    },
    "language_info": {
      "codemirror_mode": {
        "name": "ipython",
        "version": 3
      },
      "file_extension": ".py",
      "mimetype": "text/x-python",
      "name": "python",
      "nbconvert_exporter": "python",
      "pygments_lexer": "ipython3",
      "version": "3.10.8"
    },
    "orig_nbformat": 4,
    "vscode": {
      "interpreter": {
        "hash": "26de051ba29f2982a8de78e945f0abaf191376122a1563185a90213a26c5da77"
      }
    }
  },
  "nbformat": 4,
  "nbformat_minor": 0
}

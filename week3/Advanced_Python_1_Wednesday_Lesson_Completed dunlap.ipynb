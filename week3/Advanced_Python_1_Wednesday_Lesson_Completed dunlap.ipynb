{
  "cells": [
    {
      "cell_type": "markdown",
      "metadata": {
        "id": "6CWTVFmn_Mve"
      },
      "source": [
        "# Map, Filter, Reduce, Lambda & Recursion"
      ]
    },
    {
      "attachments": {},
      "cell_type": "markdown",
      "metadata": {
        "id": "sBZJzyxj_Mvi"
      },
      "source": [
        "## Tasks Today:\n",
        "\n",
        "1) <b>Lambda Functions</b> <br>\n",
        " &nbsp;&nbsp;&nbsp;&nbsp; a) Syntax <br>\n",
        " &nbsp;&nbsp;&nbsp;&nbsp; b) Saving to a Variable <br>\n",
        " &nbsp;&nbsp;&nbsp;&nbsp; c) Multiple Inputs <br>\n",
        " &nbsp;&nbsp;&nbsp;&nbsp; d) Passing a Lambda into a Function <br>\n",
        " &nbsp;&nbsp;&nbsp;&nbsp; e) Returning a Lambda from a Function <br>\n",
        " &nbsp;&nbsp;&nbsp;&nbsp; f) In-Class Exercise #1 <br>\n",
        "2) <b>Map</b> <br>\n",
        " &nbsp;&nbsp;&nbsp;&nbsp; a) Syntax <br>\n",
        " &nbsp;&nbsp;&nbsp;&nbsp; b) Using Lambda's with Map <br>\n",
        " &nbsp;&nbsp;&nbsp;&nbsp; c) In-Class Exercise #2 <br>\n",
        "3) <b>Filter</b> <br>\n",
        " &nbsp;&nbsp;&nbsp;&nbsp; a) Syntax <br>\n",
        " &nbsp;&nbsp;&nbsp;&nbsp; b) Using Lambda's with Filter <br>\n",
        " &nbsp;&nbsp;&nbsp;&nbsp; c) In-Class Exercise #3 <br>\n",
        "4) <b>Recursion</b> <br>\n",
        " &nbsp;&nbsp;&nbsp;&nbsp; a) Implementing a Base <br>\n",
        " &nbsp;&nbsp;&nbsp;&nbsp; b) Writing a Factorial Function <br>\n",
        " &nbsp;&nbsp;&nbsp;&nbsp; c) In-Class Exercise #4 <br>\n",
        "5) <b>Generators & Iterators</b> <br>\n",
        " &nbsp;&nbsp;&nbsp;&nbsp; a) Yield Keyword <br>\n",
        " &nbsp;&nbsp;&nbsp;&nbsp; b) Inifinite Generator <br>\n",
        " &nbsp;&nbsp;&nbsp;&nbsp; c) In-Class Exercise #5 <br>\n",
        "6) <b>Exercises</b> <br>\n",
        " &nbsp;&nbsp;&nbsp;&nbsp; a) Exercise #1 - Filtering Empty Strings <br>\n",
        " &nbsp;&nbsp;&nbsp;&nbsp; b) Exercise #2 - Sorting with Last Name <br>\n",
        " &nbsp;&nbsp;&nbsp;&nbsp; c) Exercise #3 - Conversion to Farhenheit <br>\n",
        " &nbsp;&nbsp;&nbsp;&nbsp; d) Exercise #4 - Fibonacci Sequence <br>"
      ]
    },
    {
      "cell_type": "markdown",
      "metadata": {
        "id": "zv3SnIM0_Mvj"
      },
      "source": [
        "## Lambda Functions <br>\n",
        "<p>Lambda functions... or \"Anonymous Functions\" are referring to inline functions with no name. The keyword lambda denotes the no name function, and executes within a single line. Without saving it to a variable; however, it is not able to be used, unless passed in either as a paramater or within list comprehension.<br>Written as \"(keyword lambda) (one or more inputs) (colon) (function to be executed)\"</p>"
      ]
    },
    {
      "cell_type": "markdown",
      "metadata": {
        "id": "RU6TAdoo_Mvk"
      },
      "source": [
        "#### Syntax"
      ]
    },
    {
      "cell_type": "code",
      "execution_count": 1,
      "metadata": {
        "id": "lepRXkqx_Mvk"
      },
      "outputs": [
        {
          "name": "stdout",
          "output_type": "stream",
          "text": [
            "6\n",
            "6\n",
            "6\n",
            "<function <lambda> at 0x00000211E1EA1BC0>\n"
          ]
        },
        {
          "name": "stderr",
          "output_type": "stream",
          "text": [
            "<>:15: SyntaxWarning: 'int' object is not callable; perhaps you missed a comma?\n",
            "<>:15: SyntaxWarning: 'int' object is not callable; perhaps you missed a comma?\n",
            "C:\\Users\\Godzilla\\AppData\\Local\\Temp\\ipykernel_1924\\3726679416.py:15: SyntaxWarning: 'int' object is not callable; perhaps you missed a comma?\n",
            "  print(lambda x: x+2(4))\n"
          ]
        }
      ],
      "source": [
        "def addTwo(x):\n",
        "    return x + 2\n",
        "\n",
        "print(addTwo(4))\n",
        "\n",
        "# Lambda function syntax\n",
        "a_var = 4\n",
        "print((lambda x: x+2)(a_var))\n",
        "\n",
        "def addTwo(x):\n",
        "    return x + 2\n",
        "\n",
        "print(addTwo(4))\n",
        "\n",
        "print(lambda x: x+2(4))\n",
        "\n"
      ]
    },
    {
      "cell_type": "markdown",
      "metadata": {
        "id": "z3yd8V5q_Mvl"
      },
      "source": [
        "#### Saving to a Variable"
      ]
    },
    {
      "cell_type": "code",
      "execution_count": 2,
      "metadata": {
        "id": "PH1dgTHI_Mvl"
      },
      "outputs": [
        {
          "data": {
            "text/plain": [
              "6"
            ]
          },
          "execution_count": 2,
          "metadata": {},
          "output_type": "execute_result"
        }
      ],
      "source": [
        "\n",
        "\n",
        "test = lambda x: x+2\n",
        "test(4)"
      ]
    },
    {
      "cell_type": "markdown",
      "metadata": {
        "id": "LEnhQ206_Mvl"
      },
      "source": [
        "#### Multiple Inputs"
      ]
    },
    {
      "cell_type": "code",
      "execution_count": 3,
      "metadata": {
        "id": "yhz4e8oc_Mvm"
      },
      "outputs": [
        {
          "name": "stdout",
          "output_type": "stream",
          "text": [
            "120\n",
            "120\n"
          ]
        }
      ],
      "source": [
        "# Multiple inputs with no variable\n",
        "print((lambda x,y,z: x * y * z)(3,5,8))\n",
        "\n",
        "x_test = lambda x,y,z: x*y*z\n",
        "print(x_test(3,5,8))"
      ]
    },
    {
      "cell_type": "markdown",
      "metadata": {
        "id": "0rAdEh_O_Mvm"
      },
      "source": [
        "#### Passing a Lambda into a Function"
      ]
    },
    {
      "cell_type": "code",
      "execution_count": 4,
      "metadata": {
        "id": "YMH292Cx_Mvm"
      },
      "outputs": [
        {
          "data": {
            "text/plain": [
              "16"
            ]
          },
          "execution_count": 4,
          "metadata": {},
          "output_type": "execute_result"
        }
      ],
      "source": [
        "def multiply(f, num):\n",
        "    \"\"\"\n",
        "    f expects a lambda function\n",
        "    num expects a number\n",
        "    \"\"\"\n",
        "    return f(num)\n",
        "multiply(lambda x: x*x, 4)"
      ]
    },
    {
      "cell_type": "markdown",
      "metadata": {
        "id": "ZLGVscCG_Mvn"
      },
      "source": [
        "#### Returning a Lambda from a Function"
      ]
    },
    {
      "cell_type": "code",
      "execution_count": 9,
      "metadata": {
        "id": "QKwjPC7n_Mvn"
      },
      "outputs": [
        {
          "name": "stdout",
          "output_type": "stream",
          "text": [
            "<function returnFunc.<locals>.multiply at 0x00000211E1EA27A0>\n",
            "8\n",
            "<function returnLam.<locals>.<lambda> at 0x00000211E1EA2DE0>\n",
            "19\n"
          ]
        }
      ],
      "source": [
        "def multiply_test(num):\n",
        "    return num*4\n",
        "\n",
        "# Function in a function\n",
        "\n",
        "def returnFunc():\n",
        "    test = 4\n",
        "    def multiply(num):\n",
        "        return num*2\n",
        "    return multiply\n",
        "\n",
        "f_return = returnFunc()\n",
        "print(f_return)\n",
        "print(f_return(4))\n",
        "\n",
        "# Lambda function return from a regular function\n",
        "def returnLam(b,c):\n",
        "    return lambda x,a: x+a+b+c\n",
        "r_lamb = returnLam(4,5)\n",
        "print(r_lamb)\n",
        "print(r_lamb(5,5))"
      ]
    },
    {
      "cell_type": "markdown",
      "metadata": {
        "id": "WGTdhTpo_Mvn"
      },
      "source": [
        "#### If Statements within Lambdas"
      ]
    },
    {
      "cell_type": "code",
      "execution_count": 10,
      "metadata": {
        "id": "TYYHh_mD_Mvn"
      },
      "outputs": [
        {
          "name": "stdout",
          "output_type": "stream",
          "text": [
            "10\n",
            "40\n"
          ]
        }
      ],
      "source": [
        "# Lambda x: True if (condition) else False\n",
        "f_condition = lambda num:num *2 if num >10 else num+2\n",
        "\n",
        "print(f_condition(8))\n",
        "print(f_condition(20))"
      ]
    },
    {
      "cell_type": "markdown",
      "metadata": {
        "id": "Va27c3uJ_Mvn"
      },
      "source": [
        "#### In-Class Exercise #1 <br>\n",
        "<p>Write an anonymous function that cubes the arguments passed in and assign the anonymous function to a variable 'f'.</p>"
      ]
    },
    {
      "cell_type": "code",
      "execution_count": 12,
      "metadata": {
        "id": "Daf-1bIP_Mvo"
      },
      "outputs": [
        {
          "name": "stdout",
          "output_type": "stream",
          "text": [
            "<function <lambda> at 0x00000211E1F34720>\n"
          ]
        }
      ],
      "source": [
        "print(lambda x: x**4)\n"
      ]
    },
    {
      "cell_type": "markdown",
      "metadata": {
        "id": "yJJUgxKC_Mvo"
      },
      "source": [
        "## Map <br>\n",
        "<p>The map function allows you to iterate over an entire list while running a function on each item of the list. This is why the map function works well with lambda's, because it simplifies things and you write less lines of code.<br>The syntax for a map function is \"map(function to be used, list to be used)\"<br>However, you must be careful, as the map function returns a map object, not a list. To turn it into a list we use the list() type conversion.</p>"
      ]
    },
    {
      "cell_type": "markdown",
      "metadata": {
        "id": "Xt_Jq1tZ_Mvo"
      },
      "source": [
        "#### Syntax"
      ]
    },
    {
      "cell_type": "code",
      "execution_count": 8,
      "metadata": {
        "id": "TGgEI05r_Mvo"
      },
      "outputs": [
        {
          "name": "stdout",
          "output_type": "stream",
          "text": [
            "[(16, 16), (11, 10), (20, 3), (9, 4), (15, 6)]\n"
          ]
        }
      ],
      "source": [
        "\"\"\"\n",
        "map(function,iterable)\n",
        "an iterable is something you can loop over; such as a list, dict, tuple, set orstring\n",
        "Normally, the usage of map happens with a pre-defined function, but we can use lambdas as well\n",
        "\"\"\"\n",
        "def squared(num, num2):\n",
        "    if num <10 and num2 < 10:\n",
        "        return num**2, num2**2\n",
        "    else:\n",
        "        return num, num2\n",
        "numbers = [4,11,20,3,15,20]\n",
        "more_nums = [4,10,3,2,6]\n",
        "\n",
        "squared_nums_map = list(map(squared, numbers, more_nums))\n",
        "print(squared_nums_map)"
      ]
    },
    {
      "cell_type": "markdown",
      "metadata": {
        "id": "AjWn3RPM_Mvo"
      },
      "source": [
        "#### Using Lambda's with Map"
      ]
    },
    {
      "cell_type": "code",
      "execution_count": 14,
      "metadata": {
        "id": "yKj7455A_Mvp"
      },
      "outputs": [
        {
          "name": "stdout",
          "output_type": "stream",
          "text": [
            "[(1, 36), (4, 49), (9, 64), (16, 81), (5, 10)]\n"
          ]
        }
      ],
      "source": [
        "# Define the iterable\n",
        "numbers = [1, 2, 3, 4, 5]\n",
        "more_nums = [6, 7, 8, 9, 10]\n",
        "\n",
        "# Use map function with lambda expression\n",
        "squared_nums_lamb = list(map(lambda x: (x[0]**2, x[1]**2) if x[0] < 10 and x[1] < 10 else x, zip(numbers, more_nums)))\n",
        "print(squared_nums_lamb)\n"
      ]
    },
    {
      "cell_type": "markdown",
      "metadata": {
        "id": "gwStMhKG_Mvp"
      },
      "source": [
        "#### In-Class Exercise #2 <br>\n",
        "<p>Use the map function to double each number and minus it by one in the list by using a lambda function</p>"
      ]
    },
    {
      "cell_type": "code",
      "execution_count": 15,
      "metadata": {
        "id": "bwnXQjML_Mvp"
      },
      "outputs": [
        {
          "name": "stdout",
          "output_type": "stream",
          "text": [
            "[1, 3, 5, 7, 9]\n",
            "[-19, -12, 7, 44, 105]\n"
          ]
        }
      ],
      "source": [
        "formula1 = list(map(lambda x: 2*x-1, numbers))\n",
        "print(formula1)\n",
        "\n",
        "formula2 = list(map(lambda x: x**3-20, numbers))\n",
        "print(formula2)"
      ]
    },
    {
      "cell_type": "markdown",
      "metadata": {
        "id": "1yP5tS-5_Mvp"
      },
      "source": [
        "## Filter() <br>\n",
        "<p>Filter's are similar to the map function, where you're able to pass a function argument and a list argument and filter out something from the list based on the conditions passed. Similar to the map function, it returns a filter object, so you need to type convert it to a list()</p>"
      ]
    },
    {
      "cell_type": "markdown",
      "metadata": {
        "id": "-4E29XVC_Mvp"
      },
      "source": [
        "#### Syntax"
      ]
    },
    {
      "cell_type": "code",
      "execution_count": 17,
      "metadata": {
        "id": "HUjqkTZ2_Mvp"
      },
      "outputs": [
        {
          "name": "stdout",
          "output_type": "stream",
          "text": [
            "['Andy', 'Angelica']\n"
          ]
        }
      ],
      "source": [
        "# list(filter(function, iterable))\n",
        "names = ['Bob', 'Andy', 'Max', 'Evan', 'Angelica']\n",
        "\n",
        "def a_names(name):\n",
        "    if name[0].lower() == 'a':\n",
        "        return True\n",
        "    else: \n",
        "        return False\n",
        "\n",
        "new_names_list = list(filter(a_names,names))\n",
        "print(new_names_list)"
      ]
    },
    {
      "cell_type": "markdown",
      "metadata": {
        "id": "OPzBC9Cb_Mvp"
      },
      "source": [
        "#### Using Lambda's with Filter()"
      ]
    },
    {
      "cell_type": "code",
      "execution_count": 18,
      "metadata": {
        "id": "zjxgmw9T_Mvq"
      },
      "outputs": [
        {
          "name": "stdout",
          "output_type": "stream",
          "text": [
            "['Andy', 'Angelica']\n"
          ]
        }
      ],
      "source": [
        "new_names_lamb = list(filter(lambda name: True if name[0].lower() == 'a' else False, names))\n",
        "print(new_names_lamb)"
      ]
    },
    {
      "cell_type": "markdown",
      "metadata": {
        "id": "Fih1P0Cy_Mvq"
      },
      "source": [
        "#### In-Class Exercise #3 <br>\n",
        "<p>Filter out all the numbers that are below the mean of the list.<br><b>Hint: Import the 'statistics' module</b></p>"
      ]
    },
    {
      "cell_type": "code",
      "execution_count": 22,
      "metadata": {
        "id": "l4ZWP74-_Mvq"
      },
      "outputs": [
        {
          "name": "stdout",
          "output_type": "stream",
          "text": [
            "[1, 2]\n"
          ]
        }
      ],
      "source": [
        "import statistics\n",
        "numbers = [1, 2, 3, 4, 5]\n",
        "#find the mean\n",
        "mean = statistics.mean(numbers)\n",
        "#lambda of x\n",
        "below = list(filter(lambda x: x < mean, numbers))\n",
        "print(below)"
      ]
    },
    {
      "cell_type": "code",
      "execution_count": null,
      "metadata": {
        "id": "U5BT32CE_Mvr"
      },
      "outputs": [],
      "source": []
    },
    {
      "cell_type": "markdown",
      "metadata": {
        "id": "wh_Bw27v_Mvr"
      },
      "source": [
        "## Recursion <br>\n",
        "<p>Recursion means that a function is calling itself, so it contanstly executes until a base case is reached. It will then push the returning values back up the chain until the function is complete. A prime example of recursion is computing factorials... such that 5! (factorial) is 5*4*3*2*1 which equals 120.</p>"
      ]
    },
    {
      "cell_type": "markdown",
      "metadata": {
        "id": "mB6AfpzO_Mvr"
      },
      "source": [
        "#### Implementing a Base Case"
      ]
    },
    {
      "cell_type": "code",
      "execution_count": 23,
      "metadata": {
        "id": "_Q3YQH6d_Mvr"
      },
      "outputs": [
        {
          "name": "stdout",
          "output_type": "stream",
          "text": [
            "add_nums(5) = 5 + add_nums(4)\n",
            "add_nums(4) = 4 + add_nums(3)\n",
            "add_nums(3) = 3 + add_nums(2)\n",
            "add_nums(2) = 2 + add_nums(1)\n",
            "add_nums(1) = 1\n"
          ]
        },
        {
          "data": {
            "text/plain": [
              "15"
            ]
          },
          "execution_count": 23,
          "metadata": {},
          "output_type": "execute_result"
        }
      ],
      "source": [
        "def add_nums(num):\n",
        "    # Set a base case to stop recursion from going for forever!!!\n",
        "    if num <= 1:\n",
        "        print('add_nums(1) = 1')\n",
        "        return num\n",
        "    else:\n",
        "        print(f'add_nums({num}) = {num} + add_nums({num - 1})')\n",
        "    return num + add_nums(num-1)\n",
        "\n",
        "add_nums(5)"
      ]
    },
    {
      "cell_type": "markdown",
      "metadata": {
        "id": "1DdB7n2q_Mvr"
      },
      "source": [
        "#### Writing a Factorial Function"
      ]
    },
    {
      "cell_type": "code",
      "execution_count": 24,
      "metadata": {
        "id": "LED-YD8u_Mvr"
      },
      "outputs": [
        {
          "data": {
            "text/plain": [
              "120"
            ]
          },
          "execution_count": 24,
          "metadata": {},
          "output_type": "execute_result"
        }
      ],
      "source": [
        "# 5! = 5 * 4 * 3 * 2 * 1\n",
        "def factorial(num):\n",
        "    if num <= 1:\n",
        "        return 1\n",
        "    else:\n",
        "        return num * factorial(num-1)\n",
        "\n",
        "factorial(5)"
      ]
    },
    {
      "attachments": {},
      "cell_type": "markdown",
      "metadata": {
        "id": "gdifMekI_Mvs"
      },
      "source": [
        "#### In-Class Exercise #4 <br>\n",
        "<p>Write a recursive function that subtracts all numbers to the argument given.</p>"
      ]
    },
    {
      "cell_type": "code",
      "execution_count": 27,
      "metadata": {
        "id": "-CjqAPyA_Mvs"
      },
      "outputs": [
        {
          "name": "stdout",
          "output_type": "stream",
          "text": [
            "<function sub_nums at 0x00000211E2477880>\n"
          ]
        }
      ],
      "source": [
        "\n",
        "def sub_nums(num):\n",
        "    #base case\n",
        "    if num <= 1:\n",
        "        print('sub_nums(1)= 1')\n",
        "        return num\n",
        "    else:\n",
        "        print(f'sub_nums{num} = {num} - sub_nums(num - 1)')\n",
        "    return num - sub_nums(num-1)\n",
        "\n",
        "print(sub_nums)"
      ]
    },
    {
      "cell_type": "markdown",
      "metadata": {
        "id": "6JL8oSYM_Mvs"
      },
      "source": [
        "## Generators <br>\n",
        "<p>Generators are a type of iterable, like lists or tuples. They do not allow indexing, but they can still be iterated through with for loops. They are created using functions and the yield statement.</p>"
      ]
    },
    {
      "cell_type": "markdown",
      "metadata": {
        "id": "FWfVp4Wi_Mvs"
      },
      "source": [
        "#### Yield Keyword <br>\n",
        "<p>The yield keyword denotes a generator, it doesn't return so it won't leave the function and reset all variables in the function scope, instead it yields the number back to the caller.</p>"
      ]
    },
    {
      "cell_type": "code",
      "execution_count": 25,
      "metadata": {
        "id": "JVQbI32I_Mvs"
      },
      "outputs": [
        {
          "name": "stdout",
          "output_type": "stream",
          "text": [
            "0\n",
            "2\n",
            "4\n",
            "6\n",
            "8\n",
            "[0, 2, 4, 6, 8]\n"
          ]
        }
      ],
      "source": [
        "def my_range(stop,start=0, step=2):\n",
        "    while start < stop:\n",
        "        yield start\n",
        "        start += step\n",
        "        \n",
        "for i in my_range(10):\n",
        "    print(i)\n",
        "print([i for i in my_range(10)])"
      ]
    },
    {
      "attachments": {},
      "cell_type": "markdown",
      "metadata": {
        "id": "gybASoTd_Mvt"
      },
      "source": [
        "#### In-Class Exercise #5 <br>\n",
        "<p>Create a generator that takes a number argument and yields that number squared, then prints each number squared until zero is reached.</p>"
      ]
    },
    {
      "cell_type": "code",
      "execution_count": 29,
      "metadata": {
        "id": "VlLNzwSO_Mvt"
      },
      "outputs": [
        {
          "name": "stdout",
          "output_type": "stream",
          "text": [
            "0\n",
            "4\n",
            "16\n",
            "36\n",
            "64\n",
            "[0, 4, 16, 36, 64]\n"
          ]
        }
      ],
      "source": [
        "\n",
        "\n",
        "\n",
        "def my_rangetwo(end, begin=0, move=2):\n",
        "    while begin < end:\n",
        "        yield begin **2\n",
        "        begin += move\n",
        "for i in my_rangetwo(10):\n",
        "    print(i)\n",
        "print([i for i in my_rangetwo(10)])\n",
        "        "
      ]
    },
    {
      "cell_type": "markdown",
      "metadata": {
        "id": "99N2jCkG_Mvt"
      },
      "source": [
        "# Exercises"
      ]
    },
    {
      "cell_type": "markdown",
      "metadata": {
        "id": "ozx5y6j2_Mvt"
      },
      "source": [
        "### Exercise #1 <br>\n",
        "<p>Filter out all of the empty strings from the list below</p>\n",
        "\n",
        "`Output: ['Argentina', 'San Diego', 'Boston', 'New York']`"
      ]
    },
    {
      "cell_type": "code",
      "execution_count": 34,
      "metadata": {
        "id": "mJ7BY64n_Mvt"
      },
      "outputs": [
        {
          "name": "stdout",
          "output_type": "stream",
          "text": [
            "['Argentina', 'San Diego', 'Boston', 'New York']\n"
          ]
        }
      ],
      "source": [
        "\n",
        "places = [\" \",\"Argentina\", \" \", \"San Diego\",\"\",\"  \",\"\",\"Boston\",\"New York\"]\n",
        "\n",
        "\n",
        "\n",
        "def filter_places(city):\n",
        "    if city == \"\" or city.isspace():\n",
        "        return False\n",
        "    else:\n",
        "        return True\n",
        "\n",
        "new_list = list(filter(filter_places, places))\n",
        "print(new_list)\n",
        "\n",
        "\n"
      ]
    },
    {
      "cell_type": "markdown",
      "metadata": {
        "id": "DrAfmmXo_Mvu"
      },
      "source": [
        "### Exercise #2 <br>\n",
        "<p>Write an anonymous function that sorts this list by the last name...<br><b>Hint: Use the \".sort()\" method and access the key\"</b></p>\n",
        "\n",
        "`Output: ['Victor aNisimov', 'Gary A.J. Bernstein', 'Joel Carter', 'Andrew P. Garfield', 'David hassELHOFF']`"
      ]
    },
    {
      "cell_type": "code",
      "execution_count": 30,
      "metadata": {
        "id": "Pw5O-x_N_Mvu"
      },
      "outputs": [
        {
          "name": "stdout",
          "output_type": "stream",
          "text": [
            "['Andy', 'Angelica']\n"
          ]
        }
      ],
      "source": [
        "author = [\"Joel Carter\", \"Victor aNisimov\", \"Andrew P. Garfield\",\"David hassELHOFF\",\"Gary A.J. Bernstein\"]\n",
        "\n",
        "new_names_lamb = list(filter(lambda name: True if name[0].lower() == 'a' else False, names))\n",
        "print(new_names_lamb)"
      ]
    },
    {
      "attachments": {},
      "cell_type": "markdown",
      "metadata": {
        "id": "M_fIpVQg_Mvu"
      },
      "source": [
        "### Exercise #3 <br>\n",
        "<p>Convert the list below from Celsius to Farhenheit, using the map function with a lambda...</p>\n",
        "\n",
        "`Output: [('Nashua', 89.6), ('Boston', 53.6), ('Los Angelos', 111.2), ('Miami', 84.2)]\n",
        "`\n"
      ]
    },
    {
      "cell_type": "code",
      "execution_count": 35,
      "metadata": {
        "id": "8Ro4CSOD_Mvu"
      },
      "outputs": [
        {
          "name": "stdout",
          "output_type": "stream",
          "text": [
            "[('Nashua', 89.6), ('Boston', 53.6), ('Los Angelos', 111.2), ('Miami', 84.2)]\n"
          ]
        }
      ],
      "source": [
        "# F = (9/5)*C + 32\n",
        "places = [('Nashua',32),(\"Boston\",12),(\"Los Angelos\",44),(\"Miami\",29)]\n",
        "places = [('Nashua', 32), (\"Boston\", 12), (\"Los Angelos\", 44), (\"Miami\", 29)]\n",
        "\n",
        "converted_places = list(map(lambda x: (x[0], (9/5)*x[1]+32), places))\n",
        "\n",
        "print(converted_places)\n"
      ]
    },
    {
      "cell_type": "markdown",
      "metadata": {
        "id": "uoQyjMFz_Mvv"
      },
      "source": [
        "### Exercise #4 <br>\n",
        "<p>Write a recursion function to perform the fibonacci sequence up to the number passed in.</p>\n",
        "\n",
        "`Output for fib(5) => \n",
        "Iteration 0: 1\n",
        "Iteration 1: 1\n",
        "Iteration 2: 2\n",
        "Iteration 3: 3\n",
        "Iteration 4: 5\n",
        "Iteration 5: 8`"
      ]
    },
    {
      "cell_type": "code",
      "execution_count": 36,
      "metadata": {
        "id": "4WlF3yVZ_Mvv",
        "scrolled": true
      },
      "outputs": [
        {
          "name": "stdout",
          "output_type": "stream",
          "text": [
            "Iteration 0: 1\n",
            "Iteration 1: 1\n",
            "Iteration 2: 2\n",
            "Iteration 3: 3\n",
            "Iteration 4: 5\n",
            "Iteration 5: 8\n"
          ]
        }
      ],
      "source": [
        "def fib(n):\n",
        "    if n == 0 or n == 1:\n",
        "        return 1\n",
        "    else:\n",
        "        return fib(n-1) + fib(n-2)\n",
        "\n",
        "for i in range(6):\n",
        "    print(f\"Iteration {i}: {fib(i)}\")\n"
      ]
    }
  ],
  "metadata": {
    "colab": {
      "provenance": []
    },
    "kernelspec": {
      "display_name": "Python 3",
      "language": "python",
      "name": "python3"
    },
    "language_info": {
      "codemirror_mode": {
        "name": "ipython",
        "version": 3
      },
      "file_extension": ".py",
      "mimetype": "text/x-python",
      "name": "python",
      "nbconvert_exporter": "python",
      "pygments_lexer": "ipython3",
      "version": "3.11.2"
    },
    "vscode": {
      "interpreter": {
        "hash": "26de051ba29f2982a8de78e945f0abaf191376122a1563185a90213a26c5da77"
      }
    }
  },
  "nbformat": 4,
  "nbformat_minor": 0
}

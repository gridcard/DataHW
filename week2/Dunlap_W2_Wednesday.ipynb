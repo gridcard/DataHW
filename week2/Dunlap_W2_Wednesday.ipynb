{
 "cells": [
  {
   "attachments": {},
   "cell_type": "markdown",
   "metadata": {},
   "source": [
    "# Coding Temple's Data Analytics Program\n",
    "---\n",
    "## Python Basics Assignment 3\n",
    "---"
   ]
  },
  {
   "attachments": {},
   "cell_type": "markdown",
   "metadata": {},
   "source": [
    "### **Task 1: Build a Shopping Cart**\n",
    "**You can use either lists or dictionaries. The program should have the following capabilites:**\n",
    "* Takes a string as an input\n",
    "* Stores user input in a dictionary or list\n",
    "* Users should be able to:\n",
    "    * Add Items\n",
    "    * Delete Items\n",
    "    * See current shopping cart\n",
    "* The program should loop until user 'quits'\n",
    "* Upon quitting the program, print out all items in the user's list"
   ]
  },
  {
   "cell_type": "code",
   "execution_count": 1,
   "metadata": {},
   "outputs": [
    {
     "name": "stdout",
     "output_type": "stream",
     "text": [
      "Enter 'add' to add an item\n",
      "Enter 'delete' to remove an item\n",
      "Enter 'show' to show your current shopping cart\n",
      "Enter 'quit' to exit the program\n"
     ]
    },
    {
     "ename": "",
     "evalue": "",
     "output_type": "error",
     "traceback": [
      "\u001b[1;31mCanceled future for execute_request message before replies were done"
     ]
    }
   ],
   "source": [
    "from IPython.display import clear_output\n",
    "\n",
    "# Ask the user 5 bits of input: Do you want to : Show/Add/Delete/clear or Quit?\n",
    "# YOUR CODE HERE\n",
    "cart = {}\n",
    "\n",
    "while True:\n",
    "    # Print menu\n",
    "    print(\"Enter 'add' to add an item\")\n",
    "    print(\"Enter 'delete' to remove an item\")\n",
    "    print(\"Enter 'show' to show your current shopping cart\")\n",
    "    print(\"Enter 'quit' to exit the program\")\n",
    "\n",
    "    # Get user input\n",
    "    user_input = input(\"What would you like to do? \")\n",
    "\n",
    "    # Process user input\n",
    "    if user_input == \"add\":\n",
    "        item_name = input(\"Enter the name of the item: \")\n",
    "        item_quantity = int(input(\"Enter the quantity of the item: \"))\n",
    "        cart[item_name] = item_quantity\n",
    "        print(f\"{item_quantity} {item_name}(s) added to your cart\")\n",
    "    elif user_input == \"delete\":\n",
    "        item_name = input(\"Enter the name of the item: \")\n",
    "        if item_name in cart:\n",
    "            del cart[item_name]\n",
    "            print(f\"{item_name} removed from your cart\")\n",
    "        else:\n",
    "            print(f\"{item_name} not found in your cart\")\n",
    "    elif user_input == \"show\":\n",
    "        print(\"Your shopping cart:\")\n",
    "        for item_name, item_quantity in cart.items():\n",
    "            print(f\"{item_name}: {item_quantity}\")\n",
    "    elif user_input == \"quit\":\n",
    "        print(\"Thank you for shopping with us!\")\n",
    "        print(\"Your shopping cart:\")\n",
    "        for item_name, item_quantity in cart.items():\n",
    "            print(f\"{item_name}: {item_quantity}\")\n",
    "        break\n",
    "    else:\n",
    "        print(\"Invalid input. Please try again.\")\n",
    "\n",
    "    \n",
    "    "
   ]
  },
  {
   "attachments": {},
   "cell_type": "markdown",
   "metadata": {},
   "source": [
    "### **Task 2: Create a Module and Import it**\n",
    "Create a Module in VS Code and import it into a Jupyter Notebook. \n",
    "\n",
    "**Your module should have the following capabilities:**\n",
    "* Has a function to calculate the square footage of a house\n",
    "* Has a function to calculate the circumference of a circle\n",
    "* Has a function to change feet to inches\n",
    "\n",
    "The program in Jupyter Notebook should take in user input and use the imported functions for their calculations!"
   ]
  },
  {
   "cell_type": "code",
   "execution_count": null,
   "metadata": {},
   "outputs": [],
   "source": [
    "import calculations\n",
    "\n",
    "def calculate_square_footage(length, width):\n",
    "    square_footage = length * width\n",
    "    return square_footage\n",
    "\n",
    "def calculate_circle_circumference(radius):\n",
    "    circumference = 2 * 3.14 * radius\n",
    "    return circumference\n",
    "\n",
    "def feet_to_inches(feet):\n",
    "    inches = feet * 12\n",
    "    return inches\n",
    "\n",
    "\n",
    "# Prompt the user to enter the length and width of a house and convert the input to a float data type\n",
    "length = float(input(\"Enter the length of the house in feet: \"))\n",
    "width = float(input(\"Enter the width of the house in feet: \"))\n",
    "\n",
    "# Call the \"calculate_square_footage\" function from the \"calculations\" module, passing in the user input values\n",
    "square_footage = calculations.calculate_square_footage(length, width)\n",
    "\n",
    "# Print the result of the calculation\n",
    "print(\"The square footage of the house is:\", square_footage)"
   ]
  },
  {
   "attachments": {},
   "cell_type": "markdown",
   "metadata": {},
   "source": [
    "### **Task 3.1: Lists**\n",
    "Create 4 lists. Two of these lists should be keys, two of these lists should be values"
   ]
  },
  {
   "cell_type": "code",
   "execution_count": null,
   "metadata": {},
   "outputs": [],
   "source": [
    "# Create a list of keys for a dictionary\n",
    "keys1 = ['apple', 'banana', 'orange']\n",
    "keys2 = ['red', 'green', 'blue']\n",
    "\n",
    "# Create a list of values for a dictionary\n",
    "values1 = [1, 2, 3]\n",
    "values2 = ['R', 'G', 'B']"
   ]
  },
  {
   "attachments": {},
   "cell_type": "markdown",
   "metadata": {},
   "source": [
    "### **Task 3.2: Create a function that converts two lists into a dictionary, then merges two dictionaries into one.**\n",
    "\n",
    "Using your 4 lists, create a function which combines the keys lists with the values lists into a dictionary, then merges and returns the two dictionaries together."
   ]
  },
  {
   "cell_type": "code",
   "execution_count": null,
   "metadata": {},
   "outputs": [],
   "source": [
    "def combine_and_merge(keys1, values1, keys2, values2):\n",
    "    # Create a dictionary by combining the first set of keys and values\n",
    "    dict1 = dict(zip(keys1, values1))\n",
    "    \n",
    "    # Create a dictionary by combining the second set of keys and values\n",
    "    dict2 = dict(zip(keys2, values2))\n",
    "    \n",
    "    # Merge the two dictionaries into one\n",
    "    dict1.update(dict2)\n",
    "    \n",
    "    # Return the merged dictionary\n",
    "    return dict1"
   ]
  }
 ],
 "metadata": {
  "kernelspec": {
   "display_name": "Python 3",
   "language": "python",
   "name": "python3"
  },
  "language_info": {
   "codemirror_mode": {
    "name": "ipython",
    "version": 3
   },
   "file_extension": ".py",
   "mimetype": "text/x-python",
   "name": "python",
   "nbconvert_exporter": "python",
   "pygments_lexer": "ipython3",
   "version": "3.11.2"
  },
  "orig_nbformat": 4,
  "vscode": {
   "interpreter": {
    "hash": "26de051ba29f2982a8de78e945f0abaf191376122a1563185a90213a26c5da77"
   }
  }
 },
 "nbformat": 4,
 "nbformat_minor": 2
}

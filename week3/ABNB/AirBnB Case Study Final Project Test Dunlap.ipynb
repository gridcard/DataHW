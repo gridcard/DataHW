{
 "cells": [
  {
   "cell_type": "markdown",
   "metadata": {},
   "source": [
    "# AirBnB NY Locations Data Case Study\n",
    "\n",
    "In this final project, you task will be to take the data provided and find evidance to answer the following questions.\n",
    "\n",
    "1. Which hosts are the busiest and why?\n",
    "2. How many neighborhood groups are available and which shows up the most?\n",
    "3. Are private rooms the most popular in manhattan?\n",
    "4. Which hosts are the busiest and based on their reviews?\n",
    "5. Which neighorhood group has the highest average price?\n",
    "6. Which neighborhood group has the highest total price?\n",
    "7. Which top 5 hosts have the highest total price?\n",
    "8. Who currently has no (zero) availability with a review count of 100 or more?\n",
    "9. What host has the highest total of prices and where are they located?\n",
    "10. When did Danielle from Queens last receive a review?\n",
    "\n",
    "You will be given **4 hours** to complete this assignment. \n",
    "**Be Advised** I will go dark for this intire assignment time period. That said, any questions that you would like to ask about the data, or the project **MUST** be asked before the time starts. Once the time has started, I can no longer give information.\n",
    "\n",
    "This is to similate what you will face when you are out in the wild. \n",
    "\n",
    "Happy Coding!"
   ]
  },
  {
   "cell_type": "code",
   "execution_count": 1,
   "metadata": {},
   "outputs": [],
   "source": [
    "import numpy as np\n",
    "import pandas as pd\n",
    "import matplotlib.pyplot as plt"
   ]
  },
  {
   "cell_type": "code",
   "execution_count": 6,
   "metadata": {},
   "outputs": [
    {
     "data": {
      "text/html": [
       "<div>\n",
       "<style scoped>\n",
       "    .dataframe tbody tr th:only-of-type {\n",
       "        vertical-align: middle;\n",
       "    }\n",
       "\n",
       "    .dataframe tbody tr th {\n",
       "        vertical-align: top;\n",
       "    }\n",
       "\n",
       "    .dataframe thead th {\n",
       "        text-align: right;\n",
       "    }\n",
       "</style>\n",
       "<table border=\"1\" class=\"dataframe\">\n",
       "  <thead>\n",
       "    <tr style=\"text-align: right;\">\n",
       "      <th></th>\n",
       "      <th>id</th>\n",
       "      <th>name</th>\n",
       "      <th>host_id</th>\n",
       "      <th>host_name</th>\n",
       "      <th>neighbourhood_group</th>\n",
       "      <th>neighbourhood</th>\n",
       "      <th>latitude</th>\n",
       "      <th>longitude</th>\n",
       "      <th>room_type</th>\n",
       "      <th>price</th>\n",
       "      <th>minimum_nights</th>\n",
       "      <th>number_of_reviews</th>\n",
       "      <th>last_review</th>\n",
       "      <th>reviews_per_month</th>\n",
       "      <th>calculated_host_listings_count</th>\n",
       "      <th>availability_365</th>\n",
       "    </tr>\n",
       "  </thead>\n",
       "  <tbody>\n",
       "    <tr>\n",
       "      <th>0</th>\n",
       "      <td>2539</td>\n",
       "      <td>Clean &amp; quiet apt home by the park</td>\n",
       "      <td>2787</td>\n",
       "      <td>John</td>\n",
       "      <td>Brooklyn</td>\n",
       "      <td>Kensington</td>\n",
       "      <td>40.64749</td>\n",
       "      <td>-73.97237</td>\n",
       "      <td>Private room</td>\n",
       "      <td>149</td>\n",
       "      <td>1</td>\n",
       "      <td>9</td>\n",
       "      <td>2018-10-19</td>\n",
       "      <td>0.21</td>\n",
       "      <td>6</td>\n",
       "      <td>365</td>\n",
       "    </tr>\n",
       "    <tr>\n",
       "      <th>1</th>\n",
       "      <td>2595</td>\n",
       "      <td>Skylit Midtown Castle</td>\n",
       "      <td>2845</td>\n",
       "      <td>Jennifer</td>\n",
       "      <td>Manhattan</td>\n",
       "      <td>Midtown</td>\n",
       "      <td>40.75362</td>\n",
       "      <td>-73.98377</td>\n",
       "      <td>Entire home/apt</td>\n",
       "      <td>225</td>\n",
       "      <td>1</td>\n",
       "      <td>45</td>\n",
       "      <td>2019-05-21</td>\n",
       "      <td>0.38</td>\n",
       "      <td>2</td>\n",
       "      <td>355</td>\n",
       "    </tr>\n",
       "    <tr>\n",
       "      <th>2</th>\n",
       "      <td>3647</td>\n",
       "      <td>THE VILLAGE OF HARLEM....NEW YORK !</td>\n",
       "      <td>4632</td>\n",
       "      <td>Elisabeth</td>\n",
       "      <td>Manhattan</td>\n",
       "      <td>Harlem</td>\n",
       "      <td>40.80902</td>\n",
       "      <td>-73.94190</td>\n",
       "      <td>Private room</td>\n",
       "      <td>150</td>\n",
       "      <td>3</td>\n",
       "      <td>0</td>\n",
       "      <td>NaN</td>\n",
       "      <td>NaN</td>\n",
       "      <td>1</td>\n",
       "      <td>365</td>\n",
       "    </tr>\n",
       "    <tr>\n",
       "      <th>3</th>\n",
       "      <td>3831</td>\n",
       "      <td>Cozy Entire Floor of Brownstone</td>\n",
       "      <td>4869</td>\n",
       "      <td>LisaRoxanne</td>\n",
       "      <td>Brooklyn</td>\n",
       "      <td>Clinton Hill</td>\n",
       "      <td>40.68514</td>\n",
       "      <td>-73.95976</td>\n",
       "      <td>Entire home/apt</td>\n",
       "      <td>89</td>\n",
       "      <td>1</td>\n",
       "      <td>270</td>\n",
       "      <td>2019-07-05</td>\n",
       "      <td>4.64</td>\n",
       "      <td>1</td>\n",
       "      <td>194</td>\n",
       "    </tr>\n",
       "    <tr>\n",
       "      <th>4</th>\n",
       "      <td>5022</td>\n",
       "      <td>Entire Apt: Spacious Studio/Loft by central park</td>\n",
       "      <td>7192</td>\n",
       "      <td>Laura</td>\n",
       "      <td>Manhattan</td>\n",
       "      <td>East Harlem</td>\n",
       "      <td>40.79851</td>\n",
       "      <td>-73.94399</td>\n",
       "      <td>Entire home/apt</td>\n",
       "      <td>80</td>\n",
       "      <td>10</td>\n",
       "      <td>9</td>\n",
       "      <td>2018-11-19</td>\n",
       "      <td>0.10</td>\n",
       "      <td>1</td>\n",
       "      <td>0</td>\n",
       "    </tr>\n",
       "  </tbody>\n",
       "</table>\n",
       "</div>"
      ],
      "text/plain": [
       "     id                                              name  host_id  \\\n",
       "0  2539                Clean & quiet apt home by the park     2787   \n",
       "1  2595                             Skylit Midtown Castle     2845   \n",
       "2  3647               THE VILLAGE OF HARLEM....NEW YORK !     4632   \n",
       "3  3831                   Cozy Entire Floor of Brownstone     4869   \n",
       "4  5022  Entire Apt: Spacious Studio/Loft by central park     7192   \n",
       "\n",
       "     host_name neighbourhood_group neighbourhood  latitude  longitude  \\\n",
       "0         John            Brooklyn    Kensington  40.64749  -73.97237   \n",
       "1     Jennifer           Manhattan       Midtown  40.75362  -73.98377   \n",
       "2    Elisabeth           Manhattan        Harlem  40.80902  -73.94190   \n",
       "3  LisaRoxanne            Brooklyn  Clinton Hill  40.68514  -73.95976   \n",
       "4        Laura           Manhattan   East Harlem  40.79851  -73.94399   \n",
       "\n",
       "         room_type  price  minimum_nights  number_of_reviews last_review  \\\n",
       "0     Private room    149               1                  9  2018-10-19   \n",
       "1  Entire home/apt    225               1                 45  2019-05-21   \n",
       "2     Private room    150               3                  0         NaN   \n",
       "3  Entire home/apt     89               1                270  2019-07-05   \n",
       "4  Entire home/apt     80              10                  9  2018-11-19   \n",
       "\n",
       "   reviews_per_month  calculated_host_listings_count  availability_365  \n",
       "0               0.21                               6               365  \n",
       "1               0.38                               2               355  \n",
       "2                NaN                               1               365  \n",
       "3               4.64                               1               194  \n",
       "4               0.10                               1                 0  "
      ]
     },
     "execution_count": 6,
     "metadata": {},
     "output_type": "execute_result"
    }
   ],
   "source": [
    "bnb = pd.read_csv(r\"C:\\Users\\Godzilla\\Documents\\python\\ABNB\\AB_NYC_2019.csv\")\n",
    "bnb.head()"
   ]
  },
  {
   "cell_type": "code",
   "execution_count": 40,
   "metadata": {},
   "outputs": [
    {
     "name": "stdout",
     "output_type": "stream",
     "text": [
      "There are 5 neighborhood groups available\n"
     ]
    }
   ],
   "source": [
    "# How many neighborhood groups are available and which shows up the most?\n",
    "bnb_groups = bnb['neighbourhood_group'].value_counts()\n",
    "\n",
    "\n",
    "print(f\"There are {len(bnb_groups)} neighborhood groups available\")"
   ]
  },
  {
   "cell_type": "code",
   "execution_count": 85,
   "metadata": {},
   "outputs": [
    {
     "name": "stdout",
     "output_type": "stream",
     "text": [
      "The total number of AirBNBs in Manhattan is 21661 with 7982 of them being private rooms and 13679 of them being either an Entire home/apt or a Shared room\n",
      "With this information we can conclude tha private rooms are NOT the most popular listing in Manhattan\n",
      "7982\n"
     ]
    }
   ],
   "source": [
    "# Are private rooms the most popular in manhattan?\n",
    "#convert columns from obj to str\n",
    "bnb['neighbourhood'] = bnb['neighbourhood'].astype(str)\n",
    "bnb['room_type'] = bnb['room_type'].astype(str)\n",
    "\n",
    "\n",
    "#count manhattan rooms\n",
    "# filter out rooms in the Manhattan neighborhood\n",
    "manhattan_rooms = bnb[bnb['neighbourhood_group'] == 'Manhattan']\n",
    "total = len(manhattan_rooms)\n",
    "#filter out rooms in the Manhattan neighborhood w private rooms\n",
    "manhattan_rooms_priv = bnb[(bnb['neighbourhood_group'] == 'Manhattan') & (bnb['room_type'] == 'Private room')]\n",
    "#filter out rooms in the Manhattan neighborhood w/o private rooms\n",
    "manhattan_rooms_other = bnb[(bnb['neighbourhood_group'] == 'Manhattan') & (bnb['room_type'] != 'Private room')]\n",
    "#create simple variables\n",
    "private = len(manhattan_rooms_priv)\n",
    "other =  len(manhattan_rooms_other)\n",
    "\n",
    "\n",
    "print(f\"The total number of AirBNBs in Manhattan is {total} with {private} of them being private rooms and {other} of them being either an Entire home/apt or a Shared room\")\n",
    "print(f\"With this information we can conclude tha private rooms are NOT the most popular listing in Manhattan\")\n",
    "\n",
    "num_reviews = manhattan_rooms_priv['number_of_reviews'].count()\n",
    "\n",
    "print(num_reviews)"
   ]
  },
  {
   "cell_type": "code",
   "execution_count": 185,
   "metadata": {},
   "outputs": [
    {
     "name": "stdout",
     "output_type": "stream",
     "text": [
      "host_name\n",
      "'Cil         0.0\n",
      "Nawar        0.0\n",
      "Nathaniel    0.0\n",
      "Nati         0.0\n",
      "Natia        0.0\n",
      "            ... \n",
      "Griffith     0.0\n",
      "Grinis       0.0\n",
      "Grisel       0.0\n",
      "Grisha       0.0\n",
      "현선           0.0\n",
      "Name: number_of_reviews, Length: 11452, dtype: float64\n"
     ]
    }
   ],
   "source": [
    "# Which hosts are the busiest and based on their reviews?\n",
    "\n",
    "busiest_host = bnb.groupby('host_name')['number_of_reviews'].sum().sort_values(ascending=False) \n",
    "print(busiest_host)"
   ]
  },
  {
   "cell_type": "code",
   "execution_count": 101,
   "metadata": {},
   "outputs": [
    {
     "name": "stdout",
     "output_type": "stream",
     "text": [
      "neighbourhood\n",
      "Fort Wadsworth    800.000000\n",
      "Woodrow           700.000000\n",
      "Tribeca           490.638418\n",
      "Sea Gate          487.857143\n",
      "Riverdale         442.090909\n",
      "Name: price, dtype: float64\n",
      "The neighbourhood with the highest average price is Fort Wadsworth\n"
     ]
    }
   ],
   "source": [
    "#Which neighorhood group has the highest average price?\n",
    "#groupby neighbourhood and select the 'price' column from the grouped data and calulate mean\n",
    "neighbourhood_mean = bnb.groupby('neighbourhood')['price'].mean()\n",
    "\n",
    "\n",
    "highest_neighbourhood = neighbourhood_mean.sort_values(ascending=False).head()\n",
    "print(highest_neighbourhood)\n",
    "print(f\"The neighbourhood with the highest average price is {highest_neighbourhood.index[0]}\")\n"
   ]
  },
  {
   "cell_type": "code",
   "execution_count": 113,
   "metadata": {},
   "outputs": [
    {
     "name": "stdout",
     "output_type": "stream",
     "text": [
      "neighbourhood_group\n",
      "Manhattan    4264527\n",
      "Name: price, dtype: int64\n",
      "The neighbourhood group with the highest total price is Manhattan\n"
     ]
    }
   ],
   "source": [
    "# Which neighbor hood group has the highest total price?\n",
    "\n",
    "highest_price = bnb.groupby('neighbourhood_group')['price'].sum().sort_values(ascending=False).head(1)\n",
    "print(highest_price)\n",
    "print(f\"The neighbourhood group with the highest total price is {highest_price.reset_index()['neighbourhood_group'][0]}\")\n"
   ]
  },
  {
   "cell_type": "code",
   "execution_count": 122,
   "metadata": {},
   "outputs": [
    {
     "name": "stdout",
     "output_type": "stream",
     "text": [
      "host_name\n",
      "Sonder (NYC)    82795\n",
      "Blueground      70331\n",
      "Michael         66895\n",
      "David           65844\n",
      "Alex            52563\n",
      "Name: price, dtype: int64\n",
      "The top 5 hosts with the highest total price are 0    Sonder (NYC)\n",
      "1      Blueground\n",
      "2         Michael\n",
      "3           David\n",
      "4            Alex\n",
      "Name: host_name, dtype: object \n"
     ]
    }
   ],
   "source": [
    "#Which top 5 hosts have the highest total price?\n",
    "highest_hosts = bnb.groupby('host_name')['price'].sum().sort_values(ascending=False).head(5)\n",
    "print(highest_hosts)\n",
    "\n",
    "\n",
    "print(f\"The top 5 hosts with the highest total price are {highest_hosts.reset_index()['host_name'][0:5]} \")\n",
    "\n"
   ]
  },
  {
   "cell_type": "code",
   "execution_count": 142,
   "metadata": {},
   "outputs": [
    {
     "name": "stdout",
     "output_type": "stream",
     "text": [
      "Empty DataFrame\n",
      "Columns: [id, name, host_id, host_name, neighbourhood_group, neighbourhood, latitude, longitude, room_type, price, minimum_nights, number_of_reviews, last_review, reviews_per_month, calculated_host_listings_count, availability_365]\n",
      "Index: []\n"
     ]
    }
   ],
   "source": [
    "# Who currently has no (zero) availability with a review count of 100 or more?\n",
    "\n",
    "\n",
    "#change from obj type to numeric type\n",
    "bnb['number_of_reviews'] = pd.to_numeric(bnb['number_of_reviews'], errors='coerce')\n",
    "zero_hundred = bnb[(bnb['availability_365'] == 0) & (bnb['number_of_reviews'] >= 100)]\n",
    "print(zero_hundred)\n",
    "\n"
   ]
  },
  {
   "cell_type": "code",
   "execution_count": 144,
   "metadata": {},
   "outputs": [
    {
     "name": "stdout",
     "output_type": "stream",
     "text": [
      "host_name\n",
      "Sonder (NYC)    82795\n",
      "Name: price, dtype: int64\n",
      "The host with the highest total price is Sonder (NYC) \n"
     ]
    }
   ],
   "source": [
    "# What host has the highest total of prices and where are they located?\n",
    "#Which top 5 hosts have the highest total price?\n",
    "highest_host = bnb.groupby('host_name')['price'].sum().sort_values(ascending=False).head(1)\n",
    "print(highest_host)\n",
    "\n",
    "\n",
    "print(f\"The host with the highest total price is {highest_host.reset_index()['host_name'][0]} \")\n",
    "\n",
    "\n",
    "\n",
    "\n"
   ]
  },
  {
   "cell_type": "code",
   "execution_count": 161,
   "metadata": {},
   "outputs": [
    {
     "name": "stdout",
     "output_type": "stream",
     "text": [
      "Danielle from Queens last recieved a review on 2019-07-08\n"
     ]
    }
   ],
   "source": [
    "# When did Danielle from Queens last receive a review?\n",
    "#find host\n",
    "danielle_queens = bnb[(bnb['host_name'] == 'Danielle') & (bnb['neighbourhood_group'] == 'Queens')]\n",
    "#sort dates\n",
    "danielle_queens_sorted = danielle_queens.sort_values('last_review', ascending=False)\n",
    "last_review_dani = danielle_queens_sorted.iloc[0]['last_review']\n",
    "print(f\"Danielle from Queens last recieved a review on {last_review_dani}\")\n"
   ]
  },
  {
   "cell_type": "code",
   "execution_count": null,
   "metadata": {},
   "outputs": [],
   "source": []
  },
  {
   "cell_type": "markdown",
   "metadata": {},
   "source": [
    "## Further Questions\n",
    "\n",
    "1. Which host has the most listings?"
   ]
  },
  {
   "cell_type": "code",
   "execution_count": 166,
   "metadata": {},
   "outputs": [
    {
     "name": "stdout",
     "output_type": "stream",
     "text": [
      "The host with the most listings is Michael with 417 listings.\n"
     ]
    }
   ],
   "source": [
    "\n",
    "host_most = bnb['host_name'].value_counts().head(1)\n",
    "\n",
    "\n",
    "print(f\"The host with the most listings is {host_most.index[0]} with {host_most.values[0]} listings.\")"
   ]
  },
  {
   "cell_type": "markdown",
   "metadata": {},
   "source": [
    "2. How many listings have completely open availability?"
   ]
  },
  {
   "cell_type": "code",
   "execution_count": 169,
   "metadata": {},
   "outputs": [
    {
     "name": "stdout",
     "output_type": "stream",
     "text": [
      "There are 1295 listings with completely open availability.\n"
     ]
    }
   ],
   "source": [
    "open_avail = (bnb['availability_365'] == 365).sum()\n",
    "\n",
    "\n",
    "print(f\"There are {open_avail} listings with completely open availability.\")"
   ]
  },
  {
   "cell_type": "markdown",
   "metadata": {},
   "source": [
    "3. What room_types have the highest review numbers?"
   ]
  },
  {
   "cell_type": "code",
   "execution_count": 181,
   "metadata": {},
   "outputs": [
    {
     "ename": "TypeError",
     "evalue": "'bool' object is not callable",
     "output_type": "error",
     "traceback": [
      "\u001b[1;31m---------------------------------------------------------------------------\u001b[0m",
      "\u001b[1;31mTypeError\u001b[0m                                 Traceback (most recent call last)",
      "Cell \u001b[1;32mIn[181], line 1\u001b[0m\n\u001b[1;32m----> 1\u001b[0m roomtype_reviews \u001b[39m=\u001b[39m bnb\u001b[39m.\u001b[39;49mgroupby(\u001b[39m'\u001b[39;49m\u001b[39mroom_type\u001b[39;49m\u001b[39m'\u001b[39;49m)[\u001b[39m'\u001b[39;49m\u001b[39mnumber_of_reviews\u001b[39;49m\u001b[39m'\u001b[39;49m]\u001b[39m.\u001b[39;49msort()\n\u001b[0;32m      2\u001b[0m highest_bytype \u001b[39m=\u001b[39m roomtype_reviews\u001b[39m.\u001b[39msort_values(ascending\u001b[39m=\u001b[39m\u001b[39mFalse\u001b[39;00m)\n\u001b[0;32m      3\u001b[0m \u001b[39mprint\u001b[39m(highest_bytype)\n",
      "\u001b[1;31mTypeError\u001b[0m: 'bool' object is not callable"
     ]
    }
   ],
   "source": [
    "roomtype_reviews = bnb.groupby('room_type')['number_of_reviews'].sort()\n",
    "highest_bytype = roomtype_reviews.sort_values(ascending=False)\n",
    "print(highest_bytype)\n",
    "\n"
   ]
  },
  {
   "attachments": {},
   "cell_type": "markdown",
   "metadata": {},
   "source": [
    "# Final Conclusion\n",
    "\n",
    "In this cell, write your final conclusion for each of the questions asked.\n",
    "\n",
    "Also, if you uncovered some more details that were not asked above, please discribe them here.\n",
    "\n",
    "-- Add your conclusion --\n",
    "My final conclusion is that Manhattan is the most expensive neighborhood."
   ]
  }
 ],
 "metadata": {
  "kernelspec": {
   "display_name": "Python 3",
   "language": "python",
   "name": "python3"
  },
  "language_info": {
   "codemirror_mode": {
    "name": "ipython",
    "version": 3
   },
   "file_extension": ".py",
   "mimetype": "text/x-python",
   "name": "python",
   "nbconvert_exporter": "python",
   "pygments_lexer": "ipython3",
   "version": "3.7.3"
  }
 },
 "nbformat": 4,
 "nbformat_minor": 2
}
